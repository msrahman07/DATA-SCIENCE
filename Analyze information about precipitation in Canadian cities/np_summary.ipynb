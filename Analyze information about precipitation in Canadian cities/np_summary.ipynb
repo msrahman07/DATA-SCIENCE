{
 "cells": [
  {
   "cell_type": "code",
   "execution_count": 1,
   "metadata": {},
   "outputs": [],
   "source": [
    "import numpy as np"
   ]
  },
  {
   "cell_type": "code",
   "execution_count": 2,
   "metadata": {},
   "outputs": [],
   "source": [
    "data = np.load('monthdata.npz')\n",
    "totals = data['totals']\n",
    "counts = data['counts']"
   ]
  },
  {
   "cell_type": "code",
   "execution_count": 18,
   "metadata": {},
   "outputs": [
    {
     "name": "stdout",
     "output_type": "stream",
     "text": [
      "Row with lowest total precipitation:\n",
      " 8\n"
     ]
    }
   ],
   "source": [
    "lowest_total_precipitation = np.argmin(totals.sum(axis=1))\n",
    "print(\"Row with lowest total precipitation:\\n\",lowest_total_precipitation)"
   ]
  },
  {
   "cell_type": "code",
   "execution_count": 17,
   "metadata": {},
   "outputs": [
    {
     "name": "stdout",
     "output_type": "stream",
     "text": [
      "Average precipitation in each month:\n",
      " [27.77978339 30.42629482 29.41007194 17.96654275 21.34456929 20.69498069\n",
      " 24.97718631 19.85661765 24.06563707 44.68441065 34.61568627 32.36679537]\n"
     ]
    }
   ],
   "source": [
    "total_precipitation_month = totals.sum(axis=0)\n",
    "total_observation_month = counts.sum(axis=0)\n",
    "print(\"Average precipitation in each month:\\n\",total_precipitation_month/total_observation_month)"
   ]
  },
  {
   "cell_type": "code",
   "execution_count": 20,
   "metadata": {},
   "outputs": [
    {
     "name": "stdout",
     "output_type": "stream",
     "text": [
      "Average precipitation in each city:\n",
      " [47.77859779 14.33333333 39.91232877 41.44505495 23.4099723  23.68144044\n",
      " 17.52197802 36.52222222  6.15426997]\n"
     ]
    }
   ],
   "source": [
    "total_precipitation_daily = totals.sum(axis=1)\n",
    "total_observation_daily = counts.sum(axis=1)\n",
    "print(\"Average precipitation in each city:\\n\",total_precipitation_daily/total_observation_daily)"
   ]
  },
  {
   "cell_type": "code",
   "execution_count": 21,
   "metadata": {},
   "outputs": [
    {
     "name": "stdout",
     "output_type": "stream",
     "text": [
      "(9, 12)\n"
     ]
    }
   ],
   "source": [
    "print(totals.shape)"
   ]
  },
  {
   "cell_type": "code",
   "execution_count": 22,
   "metadata": {},
   "outputs": [],
   "source": [
    "quarter_total = np.reshape(totals, (4*totals.shape[0], 3))"
   ]
  },
  {
   "cell_type": "code",
   "execution_count": 25,
   "metadata": {},
   "outputs": [],
   "source": [
    "quarter_total_sum = quarter_total.sum(axis=1)"
   ]
  },
  {
   "cell_type": "code",
   "execution_count": 26,
   "metadata": {},
   "outputs": [
    {
     "name": "stdout",
     "output_type": "stream",
     "text": [
      "[5450 1408 1466 4624  189 1339 3148  527 3120 3357 3386 4705 4416 3321\n",
      " 2024 5325 2024 1498 1721 3208 1786 1809 2557 2397 1583 1296 1729 1770\n",
      " 4602 1340 1250 5956  338  524  922  450]\n"
     ]
    }
   ],
   "source": [
    "print(quarter_total_sum)"
   ]
  },
  {
   "cell_type": "code",
   "execution_count": 27,
   "metadata": {},
   "outputs": [],
   "source": [
    "quarter_total = np.reshape(quarter_total_sum, (totals.shape[0],4))"
   ]
  },
  {
   "cell_type": "code",
   "execution_count": 28,
   "metadata": {},
   "outputs": [
    {
     "name": "stdout",
     "output_type": "stream",
     "text": [
      "[[5450 1408 1466 4624]\n",
      " [ 189 1339 3148  527]\n",
      " [3120 3357 3386 4705]\n",
      " [4416 3321 2024 5325]\n",
      " [2024 1498 1721 3208]\n",
      " [1786 1809 2557 2397]\n",
      " [1583 1296 1729 1770]\n",
      " [4602 1340 1250 5956]\n",
      " [ 338  524  922  450]]\n"
     ]
    }
   ],
   "source": [
    "print(quarter_total)"
   ]
  }
 ],
 "metadata": {
  "kernelspec": {
   "display_name": "Python 3",
   "language": "python",
   "name": "python3"
  },
  "language_info": {
   "codemirror_mode": {
    "name": "ipython",
    "version": 3
   },
   "file_extension": ".py",
   "mimetype": "text/x-python",
   "name": "python",
   "nbconvert_exporter": "python",
   "pygments_lexer": "ipython3",
   "version": "3.7.3"
  }
 },
 "nbformat": 4,
 "nbformat_minor": 2
}
